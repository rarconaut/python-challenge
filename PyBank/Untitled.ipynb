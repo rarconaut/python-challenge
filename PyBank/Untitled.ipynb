{
 "cells": [
  {
   "cell_type": "code",
   "execution_count": 32,
   "metadata": {},
   "outputs": [],
   "source": [
    "## Import the dependencies needed to read/write csv\n",
    "import os\n",
    "import csv\n",
    "\n",
    "## define the csv path\n",
    "pybank_csv = os.path.join(\"Resources\", \"budget_data.csv\")"
   ]
  },
  {
   "cell_type": "code",
   "execution_count": 35,
   "metadata": {},
   "outputs": [
    {
     "name": "stdout",
     "output_type": "stream",
     "text": [
      "Total number of months = 86\n",
      "The Net Total of Profit/Losses over the period was 0.0.\n",
      "The greatest increase in profits was 0.0 and occured in .\n"
     ]
    },
    {
     "ename": "UnboundLocalError",
     "evalue": "local variable 'greatest_dec' referenced before assignment",
     "output_type": "error",
     "traceback": [
      "\u001b[1;31m---------------------------------------------------------------------------\u001b[0m",
      "\u001b[1;31mUnboundLocalError\u001b[0m                         Traceback (most recent call last)",
      "\u001b[1;32m<ipython-input-35-73992377963f>\u001b[0m in \u001b[0;36m<module>\u001b[1;34m\u001b[0m\n\u001b[0;32m     65\u001b[0m \u001b[1;33m\u001b[0m\u001b[0m\n\u001b[0;32m     66\u001b[0m     \u001b[1;31m# run the analysis function\u001b[0m\u001b[1;33m\u001b[0m\u001b[1;33m\u001b[0m\u001b[1;33m\u001b[0m\u001b[0m\n\u001b[1;32m---> 67\u001b[1;33m     \u001b[0manalysis\u001b[0m\u001b[1;33m(\u001b[0m\u001b[0mbudgetData\u001b[0m\u001b[1;33m)\u001b[0m\u001b[1;33m\u001b[0m\u001b[1;33m\u001b[0m\u001b[0m\n\u001b[0m",
      "\u001b[1;32m<ipython-input-35-73992377963f>\u001b[0m in \u001b[0;36manalysis\u001b[1;34m(budgetData)\u001b[0m\n\u001b[0;32m     53\u001b[0m \u001b[1;31m#     print(f'The Average Change of Profit/Losses over the period was {avg_change}.')\u001b[0m\u001b[1;33m\u001b[0m\u001b[1;33m\u001b[0m\u001b[1;33m\u001b[0m\u001b[0m\n\u001b[0;32m     54\u001b[0m     \u001b[0mprint\u001b[0m\u001b[1;33m(\u001b[0m\u001b[1;34mf'The greatest increase in profits was {greatest_inc} and occured in {date}.'\u001b[0m\u001b[1;33m)\u001b[0m\u001b[1;33m\u001b[0m\u001b[1;33m\u001b[0m\u001b[0m\n\u001b[1;32m---> 55\u001b[1;33m     \u001b[0mprint\u001b[0m\u001b[1;33m(\u001b[0m\u001b[1;34mf'The greatest decrease in losses was {greatest_dec} and occured in {date}.'\u001b[0m\u001b[1;33m)\u001b[0m\u001b[1;33m\u001b[0m\u001b[1;33m\u001b[0m\u001b[0m\n\u001b[0m\u001b[0;32m     56\u001b[0m \u001b[1;33m\u001b[0m\u001b[0m\n\u001b[0;32m     57\u001b[0m \u001b[1;33m\u001b[0m\u001b[0m\n",
      "\u001b[1;31mUnboundLocalError\u001b[0m: local variable 'greatest_dec' referenced before assignment"
     ]
    }
   ],
   "source": [
    "# define the function and accept 'budgetData' as its parameter\n",
    "def analysis(budgetData):\n",
    "    # variables to store the data\n",
    "    date = \"\"\n",
    "    #profits_losses = float(budgetData[1])\n",
    "    net_total = 0.0\n",
    "    greatest_inc = 0.0\n",
    "    greatest_des = 0.0\n",
    "    total_months = \"\"\n",
    "                           \n",
    "    # The total number of months included in the dataset\n",
    "    # total months is equal to the number of rows (minus the header)\n",
    "    total_months= len(list(budgetData))\n",
    "    \n",
    "    \n",
    "    for row in budgetData:                       \n",
    "        # The net total amount of \"Profit/Losses\" over the entire period\n",
    "        net_total = sum(profits_losses)\n",
    "        print(net_total)\n",
    "#         if profit_losses >= 0:\n",
    "#             print(row)\n",
    "#             profit = profits_losses\n",
    "#             profits.append(profit)\n",
    "\n",
    "#         elif profit_losses < 0:\n",
    "#             print(row)\n",
    "#             loss = profits_losses\n",
    "#             losses.append(loss)\n",
    "        \n",
    "    # print(profit) #This part works correctly, and outputs a list of all profits as floats\n",
    "    # print(losses) #This prints a complicated mess, and I can't figure out what the issue is - it works on a set of simple test figures and it's formatted the same way as the 'profits' list.   \n",
    "    # netTotal = sum(profits) - sum(losses)\n",
    "                           \n",
    "    # The average of the changes in \"Profit/Losses\" over the entire period\n",
    "    # avg_change = (sum of differences month to month)/total months\n",
    "       \n",
    "        \n",
    "\n",
    "        # The greatest increase in profits (date and amount) over the entire period\n",
    "        if float(row[1]) > greatest_inc:\n",
    "            greatest_inc = float(row[1])\n",
    "            date = row[0]\n",
    "            \n",
    "\n",
    "    # The greatest decrease in losses (date and amount) over the entire period\n",
    "        if float(row[1]) < greatest_dec:\n",
    "            greatest_dec = float(row[1])\n",
    "            date = row[0]\n",
    "                           \n",
    "# The analysis() output\n",
    "    print(f'Total number of months = {total_months}')\n",
    "    print(f'The Net Total of Profit/Losses over the period was {net_total}.')\n",
    "#     print(f'The Average Change of Profit/Losses over the period was {avg_change}.')\n",
    "    print(f'The greatest increase in profits was {greatest_inc} and occured in {date}.')\n",
    "    print(f'The greatest decrease in losses was {greatest_dec} and occured in {date}.')\n",
    "                           \n",
    "                           \n",
    "# reading the budget_data.csv file into Python\n",
    "with open(pybank_csv, 'r') as csvfile:\n",
    "    budgetData = csv.reader(csvfile, delimiter=',')\n",
    "    \n",
    "    # defining the header\n",
    "    header = next(budgetData)\n",
    "    \n",
    "    \n",
    "    # run the analysis function\n",
    "    analysis(budgetData)"
   ]
  },
  {
   "cell_type": "code",
   "execution_count": null,
   "metadata": {},
   "outputs": [],
   "source": [
    "    "
   ]
  },
  {
   "cell_type": "code",
   "execution_count": null,
   "metadata": {},
   "outputs": [],
   "source": []
  }
 ],
 "metadata": {
  "kernelspec": {
   "display_name": "Python 3",
   "language": "python",
   "name": "python3"
  },
  "language_info": {
   "codemirror_mode": {
    "name": "ipython",
    "version": 3
   },
   "file_extension": ".py",
   "mimetype": "text/x-python",
   "name": "python",
   "nbconvert_exporter": "python",
   "pygments_lexer": "ipython3",
   "version": "3.7.6"
  }
 },
 "nbformat": 4,
 "nbformat_minor": 4
}
